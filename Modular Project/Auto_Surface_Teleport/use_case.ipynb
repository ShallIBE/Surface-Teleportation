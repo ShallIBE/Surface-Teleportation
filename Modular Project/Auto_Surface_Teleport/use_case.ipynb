{
 "cells": [
  {
   "cell_type": "code",
   "execution_count": 1,
   "metadata": {},
   "outputs": [
    {
     "data": {
      "image/svg+xml": [
       "<svg xmlns=\"http://www.w3.org/2000/svg\" xmlns:ev=\"http://www.w3.org/2001/xml-events\" xmlns:xlink=\"http://www.w3.org/1999/xlink\" baseProfile=\"full\" height=\"400\" version=\"1.1\" width=\"280\"><defs/><text dominant-baseline=\"middle\" font-size=\"20\" text-anchor=\"middle\" x=\"140.0\" y=\"20.0\">Modular Surface Code 3x3</text><rect fill=\"red\" height=\"40\" stroke=\"black\" width=\"40\" x=\"80\" y=\"40\"/><text dominant-baseline=\"middle\" fill=\"white\" font-size=\"12\" text-anchor=\"middle\" x=\"100.0\" y=\"60.0\">A1</text><rect fill=\"grey\" height=\"40\" stroke=\"black\" width=\"40\" x=\"40\" y=\"80\"/><text dominant-baseline=\"middle\" fill=\"white\" font-size=\"12\" text-anchor=\"middle\" x=\"60.0\" y=\"100.0\">Q1</text><rect fill=\"grey\" height=\"40\" stroke=\"black\" width=\"40\" x=\"120\" y=\"80\"/><text dominant-baseline=\"middle\" fill=\"white\" font-size=\"12\" text-anchor=\"middle\" x=\"140.0\" y=\"100.0\">Q2</text><rect fill=\"grey\" height=\"40\" stroke=\"black\" width=\"40\" x=\"200\" y=\"80\"/><text dominant-baseline=\"middle\" fill=\"white\" font-size=\"12\" text-anchor=\"middle\" x=\"220.0\" y=\"100.0\">Q3</text><rect fill=\"blue\" height=\"40\" stroke=\"black\" width=\"40\" x=\"80\" y=\"120\"/><text dominant-baseline=\"middle\" fill=\"white\" font-size=\"12\" text-anchor=\"middle\" x=\"100.0\" y=\"140.0\">B1</text><rect fill=\"green\" height=\"40\" stroke=\"black\" width=\"40\" x=\"160\" y=\"120\"/><text dominant-baseline=\"middle\" fill=\"white\" font-size=\"12\" text-anchor=\"middle\" x=\"180.0\" y=\"140.0\">B2</text><rect fill=\"blue\" height=\"40\" stroke=\"black\" width=\"40\" x=\"240\" y=\"120\"/><text dominant-baseline=\"middle\" fill=\"white\" font-size=\"12\" text-anchor=\"middle\" x=\"260.0\" y=\"140.0\">A2</text><rect fill=\"grey\" height=\"40\" stroke=\"black\" width=\"40\" x=\"40\" y=\"160\"/><text dominant-baseline=\"middle\" fill=\"white\" font-size=\"12\" text-anchor=\"middle\" x=\"60.0\" y=\"180.0\">Q4</text><rect fill=\"grey\" height=\"40\" stroke=\"black\" width=\"40\" x=\"120\" y=\"160\"/><text dominant-baseline=\"middle\" fill=\"white\" font-size=\"12\" text-anchor=\"middle\" x=\"140.0\" y=\"180.0\">Q5</text><rect fill=\"grey\" height=\"40\" stroke=\"black\" width=\"40\" x=\"200\" y=\"160\"/><text dominant-baseline=\"middle\" fill=\"white\" font-size=\"12\" text-anchor=\"middle\" x=\"220.0\" y=\"180.0\">Q6</text><rect fill=\"blue\" height=\"40\" stroke=\"black\" width=\"40\" x=\"0\" y=\"200\"/><text dominant-baseline=\"middle\" fill=\"white\" font-size=\"12\" text-anchor=\"middle\" x=\"20.0\" y=\"220.0\">A4</text><rect fill=\"red\" height=\"40\" stroke=\"black\" width=\"40\" x=\"80\" y=\"200\"/><text dominant-baseline=\"middle\" fill=\"white\" font-size=\"12\" text-anchor=\"middle\" x=\"100.0\" y=\"220.0\">B3</text><rect fill=\"green\" height=\"40\" stroke=\"black\" width=\"40\" x=\"160\" y=\"200\"/><text dominant-baseline=\"middle\" fill=\"white\" font-size=\"12\" text-anchor=\"middle\" x=\"180.0\" y=\"220.0\">B4</text><rect fill=\"grey\" height=\"40\" stroke=\"black\" width=\"40\" x=\"40\" y=\"240\"/><text dominant-baseline=\"middle\" fill=\"white\" font-size=\"12\" text-anchor=\"middle\" x=\"60.0\" y=\"260.0\">Q7</text><rect fill=\"grey\" height=\"40\" stroke=\"black\" width=\"40\" x=\"120\" y=\"240\"/><text dominant-baseline=\"middle\" fill=\"white\" font-size=\"12\" text-anchor=\"middle\" x=\"140.0\" y=\"260.0\">Q8</text><rect fill=\"grey\" height=\"40\" stroke=\"black\" width=\"40\" x=\"200\" y=\"240\"/><text dominant-baseline=\"middle\" fill=\"white\" font-size=\"12\" text-anchor=\"middle\" x=\"220.0\" y=\"260.0\">Q9</text><rect fill=\"green\" height=\"40\" stroke=\"black\" width=\"40\" x=\"160\" y=\"280\"/><text dominant-baseline=\"middle\" fill=\"white\" font-size=\"12\" text-anchor=\"middle\" x=\"180.0\" y=\"300.0\">A3</text><rect fill=\"grey\" height=\"10\" stroke=\"black\" width=\"10\" x=\"10\" y=\"330\"/><text dominant-baseline=\"middle\" fill=\"black\" font-size=\"12\" text-anchor=\"start\" x=\"30\" y=\"335.0\">Physical Qubits</text><rect fill=\"red\" height=\"10\" stroke=\"black\" width=\"10\" x=\"10\" y=\"345\"/><text dominant-baseline=\"middle\" fill=\"black\" font-size=\"12\" text-anchor=\"start\" x=\"30\" y=\"350.0\">X Ancilla</text><rect fill=\"blue\" height=\"10\" stroke=\"black\" width=\"10\" x=\"10\" y=\"360\"/><text dominant-baseline=\"middle\" fill=\"black\" font-size=\"12\" text-anchor=\"start\" x=\"30\" y=\"365.0\">Z Ancilla</text><rect fill=\"green\" height=\"10\" stroke=\"black\" width=\"10\" x=\"10\" y=\"375\"/><text dominant-baseline=\"middle\" fill=\"black\" font-size=\"12\" text-anchor=\"start\" x=\"30\" y=\"380.0\">Bell Pair</text></svg>"
      ],
      "text/plain": [
       "<IPython.core.display.SVG object>"
      ]
     },
     "metadata": {},
     "output_type": "display_data"
    },
    {
     "data": {
      "image/svg+xml": [
       "<svg xmlns=\"http://www.w3.org/2000/svg\" xmlns:ev=\"http://www.w3.org/2001/xml-events\" xmlns:xlink=\"http://www.w3.org/1999/xlink\" baseProfile=\"full\" height=\"400\" version=\"1.1\" width=\"400\"><defs/><text dominant-baseline=\"middle\" font-size=\"20\" text-anchor=\"middle\" x=\"200.0\" y=\"20.0\">Modular Surface Code 3x3</text><rect fill=\"red\" height=\"40\" stroke=\"black\" width=\"40\" x=\"80\" y=\"40\"/><text dominant-baseline=\"middle\" fill=\"white\" font-size=\"12\" text-anchor=\"middle\" x=\"100.0\" y=\"60.0\">A1</text><rect fill=\"grey\" height=\"40\" stroke=\"black\" width=\"40\" x=\"40\" y=\"80\"/><text dominant-baseline=\"middle\" fill=\"white\" font-size=\"12\" text-anchor=\"middle\" x=\"60.0\" y=\"100.0\">Q1</text><rect fill=\"grey\" height=\"40\" stroke=\"black\" width=\"40\" x=\"120\" y=\"80\"/><text dominant-baseline=\"middle\" fill=\"white\" font-size=\"12\" text-anchor=\"middle\" x=\"140.0\" y=\"100.0\">Q2</text><rect fill=\"grey\" height=\"40\" stroke=\"black\" width=\"40\" x=\"320\" y=\"80\"/><text dominant-baseline=\"middle\" fill=\"white\" font-size=\"12\" text-anchor=\"middle\" x=\"340.0\" y=\"100.0\">Q3</text><rect fill=\"blue\" height=\"40\" stroke=\"black\" width=\"40\" x=\"80\" y=\"120\"/><text dominant-baseline=\"middle\" fill=\"white\" font-size=\"12\" text-anchor=\"middle\" x=\"100.0\" y=\"140.0\">B1</text><rect fill=\"green\" height=\"40\" stroke=\"black\" width=\"40\" x=\"160\" y=\"120\"/><text dominant-baseline=\"middle\" fill=\"white\" font-size=\"12\" text-anchor=\"middle\" x=\"180.0\" y=\"140.0\">T31</text><rect fill=\"green\" height=\"40\" stroke=\"black\" width=\"40\" x=\"240\" y=\"120\"/><text dominant-baseline=\"middle\" fill=\"white\" font-size=\"12\" text-anchor=\"middle\" x=\"260.0\" y=\"140.0\">T32</text><rect fill=\"red\" height=\"40\" stroke=\"black\" width=\"40\" x=\"280\" y=\"120\"/><text dominant-baseline=\"middle\" fill=\"white\" font-size=\"12\" text-anchor=\"middle\" x=\"300.0\" y=\"140.0\">T33</text><rect fill=\"blue\" height=\"40\" stroke=\"black\" width=\"40\" x=\"360\" y=\"120\"/><text dominant-baseline=\"middle\" fill=\"white\" font-size=\"12\" text-anchor=\"middle\" x=\"380.0\" y=\"140.0\">A2</text><rect fill=\"grey\" height=\"40\" stroke=\"black\" width=\"40\" x=\"40\" y=\"160\"/><text dominant-baseline=\"middle\" fill=\"white\" font-size=\"12\" text-anchor=\"middle\" x=\"60.0\" y=\"180.0\">Q4</text><rect fill=\"grey\" height=\"40\" stroke=\"black\" width=\"40\" x=\"120\" y=\"160\"/><text dominant-baseline=\"middle\" fill=\"white\" font-size=\"12\" text-anchor=\"middle\" x=\"140.0\" y=\"180.0\">Q5</text><rect fill=\"grey\" height=\"40\" stroke=\"black\" width=\"40\" x=\"320\" y=\"160\"/><text dominant-baseline=\"middle\" fill=\"white\" font-size=\"12\" text-anchor=\"middle\" x=\"340.0\" y=\"180.0\">Q6</text><rect fill=\"blue\" height=\"40\" stroke=\"black\" width=\"40\" x=\"0\" y=\"200\"/><text dominant-baseline=\"middle\" fill=\"white\" font-size=\"12\" text-anchor=\"middle\" x=\"20.0\" y=\"220.0\">A4</text><rect fill=\"red\" height=\"40\" stroke=\"black\" width=\"40\" x=\"80\" y=\"200\"/><text dominant-baseline=\"middle\" fill=\"white\" font-size=\"12\" text-anchor=\"middle\" x=\"100.0\" y=\"220.0\">B3</text><rect fill=\"green\" height=\"40\" stroke=\"black\" width=\"40\" x=\"160\" y=\"200\"/><text dominant-baseline=\"middle\" fill=\"white\" font-size=\"12\" text-anchor=\"middle\" x=\"180.0\" y=\"220.0\">T51</text><rect fill=\"green\" height=\"40\" stroke=\"black\" width=\"40\" x=\"240\" y=\"200\"/><text dominant-baseline=\"middle\" fill=\"white\" font-size=\"12\" text-anchor=\"middle\" x=\"260.0\" y=\"220.0\">T52</text><rect fill=\"blue\" height=\"40\" stroke=\"black\" width=\"40\" x=\"280\" y=\"200\"/><text dominant-baseline=\"middle\" fill=\"white\" font-size=\"12\" text-anchor=\"middle\" x=\"300.0\" y=\"220.0\">T53</text><rect fill=\"grey\" height=\"40\" stroke=\"black\" width=\"40\" x=\"40\" y=\"240\"/><text dominant-baseline=\"middle\" fill=\"white\" font-size=\"12\" text-anchor=\"middle\" x=\"60.0\" y=\"260.0\">Q7</text><rect fill=\"grey\" height=\"40\" stroke=\"black\" width=\"40\" x=\"120\" y=\"240\"/><text dominant-baseline=\"middle\" fill=\"white\" font-size=\"12\" text-anchor=\"middle\" x=\"140.0\" y=\"260.0\">Q8</text><rect fill=\"grey\" height=\"40\" stroke=\"black\" width=\"40\" x=\"320\" y=\"240\"/><text dominant-baseline=\"middle\" fill=\"white\" font-size=\"12\" text-anchor=\"middle\" x=\"340.0\" y=\"260.0\">Q9</text><rect fill=\"green\" height=\"40\" stroke=\"black\" width=\"40\" x=\"160\" y=\"280\"/><text dominant-baseline=\"middle\" fill=\"white\" font-size=\"12\" text-anchor=\"middle\" x=\"180.0\" y=\"300.0\">T71</text><rect fill=\"green\" height=\"40\" stroke=\"black\" width=\"40\" x=\"240\" y=\"280\"/><text dominant-baseline=\"middle\" fill=\"white\" font-size=\"12\" text-anchor=\"middle\" x=\"260.0\" y=\"300.0\">T72</text><rect fill=\"red\" height=\"40\" stroke=\"black\" width=\"40\" x=\"280\" y=\"280\"/><text dominant-baseline=\"middle\" fill=\"white\" font-size=\"12\" text-anchor=\"middle\" x=\"300.0\" y=\"300.0\">T73</text><rect fill=\"grey\" height=\"10\" stroke=\"black\" width=\"10\" x=\"10\" y=\"330\"/><text dominant-baseline=\"middle\" fill=\"black\" font-size=\"12\" text-anchor=\"start\" x=\"30\" y=\"335.0\">Physical Qubits</text><rect fill=\"red\" height=\"10\" stroke=\"black\" width=\"10\" x=\"10\" y=\"345\"/><text dominant-baseline=\"middle\" fill=\"black\" font-size=\"12\" text-anchor=\"start\" x=\"30\" y=\"350.0\">X Ancilla</text><rect fill=\"blue\" height=\"10\" stroke=\"black\" width=\"10\" x=\"10\" y=\"360\"/><text dominant-baseline=\"middle\" fill=\"black\" font-size=\"12\" text-anchor=\"start\" x=\"30\" y=\"365.0\">Z Ancilla</text><rect fill=\"green\" height=\"10\" stroke=\"black\" width=\"10\" x=\"10\" y=\"375\"/><text dominant-baseline=\"middle\" fill=\"black\" font-size=\"12\" text-anchor=\"start\" x=\"30\" y=\"380.0\">Bell Pair</text></svg>"
      ],
      "text/plain": [
       "<IPython.core.display.SVG object>"
      ]
     },
     "metadata": {},
     "output_type": "display_data"
    },
    {
     "name": "stdout",
     "output_type": "stream",
     "text": [
      "{'initial_matrix': array([['#', '#', 'A1', '#', '#', '#', '#'],\n",
      "       ['#', 'Q1', '#', 'Q2', '#', 'Q3', '#'],\n",
      "       ['#', '#', 'B1', '#', 'B2', '#', 'A2'],\n",
      "       ['#', 'Q4', '#', 'Q5', '#', 'Q6', '#'],\n",
      "       ['A4', '#', 'B3', '#', 'B4', '#', '#'],\n",
      "       ['#', 'Q7', '#', 'Q8', '#', 'Q9', '#'],\n",
      "       ['#', '#', '#', '#', 'A3', '#', '#']], dtype=object), 'cut_matrix': array([['#', '#', 'A1', '#', '#', '#', '#', '#', '#', '#'],\n",
      "       ['#', 'Q1', '#', 'Q2', '#', '#', '#', '#', 'Q3', '#'],\n",
      "       ['#', '#', 'B1', '#', 'T31', '#', 'T32', 'T33', '#', 'A2'],\n",
      "       ['#', 'Q4', '#', 'Q5', '#', '#', '#', '#', 'Q6', '#'],\n",
      "       ['A4', '#', 'B3', '#', 'T51', '#', 'T52', 'T53', '#', '#'],\n",
      "       ['#', 'Q7', '#', 'Q8', '#', '#', '#', '#', 'Q9', '#'],\n",
      "       ['#', '#', '#', '#', 'T71', '#', 'T72', 'T73', '#', '#']],\n",
      "      dtype=object), 'X_Ancillas': ['T31', 'B3', 'A1', 'T71', 'T33', 'T73'], 'Z_Ancillas': ['B1', 'T51', 'A2', 'A4', 'T53'], 'B_Ancillas': ['B1', 'B3'], 'T3_Ancillas': ['T33', 'T53', 'T73'], 'T2_Ancillas': ['T32', 'T52', 'T72'], 'T1_Ancillas': ['T31', 'T51', 'T71'], 'A_Ancillas': ['A1', 'A2', 'A4'], 'Qubits': ['Q1', 'Q2', 'Q3', 'Q4', 'Q5', 'Q6', 'Q7', 'Q8', 'Q9'], 'diagonal_neighbors': [('X', 'A1', None, None, 'Q2', 'Q1'), ('Z', 'B1', 'Q1', 'Q2', 'Q5', 'Q4'), ('X', 'T31', 'Q2', '#', '#', 'Q5'), ('', 'T32', '#', '#', '#', '#'), ('X', 'T33', '#', 'Q3', 'Q6', '#'), ('Z', 'A2', 'Q3', None, None, 'Q6'), ('Z', 'A4', None, 'Q4', 'Q7', None), ('X', 'B3', 'Q4', 'Q5', 'Q8', 'Q7'), ('Z', 'T51', 'Q5', '#', '#', 'Q8'), ('', 'T52', '#', '#', '#', '#'), ('Z', 'T53', '#', 'Q6', 'Q9', '#'), ('X', 'T71', 'Q8', '#', None, None), ('', 'T72', '#', '#', None, None), ('X', 'T73', '#', 'Q9', None, None)]}\n"
     ]
    }
   ],
   "source": [
    "from Surface import surface_data as surface\n",
    "\n",
    "data = surface(3,3,2,3,display_svg=True)\n",
    "print(data)"
   ]
  },
  {
   "cell_type": "code",
   "execution_count": 2,
   "metadata": {},
   "outputs": [
    {
     "name": "stdout",
     "output_type": "stream",
     "text": [
      "Initial Matrix:\n",
      "# # A1 # # # #\n",
      "# Q1 # Q2 # Q3 #\n",
      "# # B1 # B2 # A2\n",
      "# Q4 # Q5 # Q6 #\n",
      "A4 # B3 # B4 # #\n",
      "# Q7 # Q8 # Q9 #\n",
      "# # # # A3 # #\n",
      "\n",
      "Cut Matrix:\n",
      "# # A1 # # # # # # #\n",
      "# Q1 # Q2 # # # # Q3 #\n",
      "# # B1 # T31 # T32 T33 # A2\n",
      "# Q4 # Q5 # # # # Q6 #\n",
      "A4 # B3 # T51 # T52 T53 # #\n",
      "# Q7 # Q8 # # # # Q9 #\n",
      "# # # # T71 # T72 T73 # #\n",
      "\n",
      "X Ancillas: ['T31', 'B3', 'A1', 'T71', 'T33', 'T73']\n",
      "Z Ancillas: ['B1', 'T51', 'A2', 'A4', 'T53']\n",
      "B Ancillas: ['B1', 'B3']\n",
      "T3 Ancillas: ['T33', 'T53', 'T73']\n",
      "T2 Ancillas: ['T32', 'T52', 'T72']\n",
      "T1 Ancillas: ['T31', 'T51', 'T71']\n",
      "A Ancillas: ['A1', 'A2', 'A4']\n",
      "Qubits: ['Q1', 'Q2', 'Q3', 'Q4', 'Q5', 'Q6', 'Q7', 'Q8', 'Q9']\n",
      "Neighbor: [('X', 'A1', None, None, 'Q2', 'Q1'), ('Z', 'B1', 'Q1', 'Q2', 'Q5', 'Q4'), ('X', 'T31', 'Q2', '#', '#', 'Q5'), ('', 'T32', '#', '#', '#', '#'), ('X', 'T33', '#', 'Q3', 'Q6', '#'), ('Z', 'A2', 'Q3', None, None, 'Q6'), ('Z', 'A4', None, 'Q4', 'Q7', None), ('X', 'B3', 'Q4', 'Q5', 'Q8', 'Q7'), ('Z', 'T51', 'Q5', '#', '#', 'Q8'), ('', 'T52', '#', '#', '#', '#'), ('Z', 'T53', '#', 'Q6', 'Q9', '#'), ('X', 'T71', 'Q8', '#', None, None), ('', 'T72', '#', '#', None, None), ('X', 'T73', '#', 'Q9', None, None)]\n"
     ]
    }
   ],
   "source": [
    "from Surface import surface_data \n",
    "\n",
    "# Call the function with the correct parameters\n",
    "#data = extract_surface_code_data(3, 3, 1, 3)  # Ensure to pass the correct parameters: (n, m, c, spacing)\n",
    "\n",
    "# Access and print specific parts of the dictionary\n",
    "print(\"Initial Matrix:\")\n",
    "for row in data['initial_matrix']:\n",
    "    print(' '.join(map(str, row)))\n",
    "\n",
    "print(\"\\nCut Matrix:\")\n",
    "for row in data['cut_matrix']:\n",
    "    print(' '.join(map(str, row)))\n",
    "\n",
    "print(\"\\nX Ancillas:\", data['X_Ancillas'])\n",
    "print(\"Z Ancillas:\", data['Z_Ancillas'])\n",
    "print(\"B Ancillas:\", data['B_Ancillas'])\n",
    "print(\"T3 Ancillas:\", data['T3_Ancillas'])\n",
    "print(\"T2 Ancillas:\", data['T2_Ancillas'])\n",
    "print(\"T1 Ancillas:\", data['T1_Ancillas'])\n",
    "print(\"A Ancillas:\", data['A_Ancillas'])\n",
    "print(\"Qubits:\", data['Qubits'])\n",
    "print(\"Neighbor:\",data['diagonal_neighbors'])\n",
    "\n",
    "#print(\"\\nDiagonal Neighbors:\")\n",
    "#for neighbor in data['diagonal_neighbors']:\n",
    "#    print(neighbor)\n"
   ]
  }
 ],
 "metadata": {
  "kernelspec": {
   "display_name": "Python 3",
   "language": "python",
   "name": "python3"
  },
  "language_info": {
   "codemirror_mode": {
    "name": "ipython",
    "version": 3
   },
   "file_extension": ".py",
   "mimetype": "text/x-python",
   "name": "python",
   "nbconvert_exporter": "python",
   "pygments_lexer": "ipython3",
   "version": "3.10.8"
  }
 },
 "nbformat": 4,
 "nbformat_minor": 2
}
